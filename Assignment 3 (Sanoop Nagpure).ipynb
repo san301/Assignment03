{
  "cells": [
    {
      "cell_type": "markdown",
      "metadata": {
        "id": "ivFDfgiHgY2v"
      },
      "source": [
        "**Q.1) What is the difference betweeen set and dictionary, Explain  with the suitable example**\n",
        "\n",
        "**Ans:**\n",
        "\n",
        "\n",
        "Set:   Sets are unordered collections of unique elements.\n",
        "\n",
        "Dict: Dictionaries are unordered collections of key-value pairs. \n"
      ]
    },
    {
      "cell_type": "code",
      "execution_count": 2,
      "metadata": {
        "colab": {
          "base_uri": "https://localhost:8080/"
        },
        "id": "BS1ntkRKpqDm",
        "outputId": "7f7abcb3-8032-4258-c17f-60a27f68b668"
      },
      "outputs": [
        {
          "data": {
            "text/plain": [
              "{1}"
            ]
          },
          "execution_count": 2,
          "metadata": {},
          "output_type": "execute_result"
        }
      ],
      "source": [
        "# Creating set\n",
        "\n",
        "s4 =set()\n",
        "s4.add(1)\n",
        "s4"
      ]
    },
    {
      "cell_type": "code",
      "execution_count": 3,
      "metadata": {
        "colab": {
          "base_uri": "https://localhost:8080/"
        },
        "id": "xVItGjxuqxcP",
        "outputId": "bed84cf4-28ff-49eb-dcdc-df1869ffdf10"
      },
      "outputs": [
        {
          "data": {
            "text/plain": [
              "{'Name': 'Mayuresh Nehe',\n",
              " 'Age': 22,\n",
              " 'Subject': 'MAchine Leaning',\n",
              " 'Batch': 'Morning'}"
            ]
          },
          "execution_count": 3,
          "metadata": {},
          "output_type": "execute_result"
        }
      ],
      "source": [
        "#Creating Dict\n",
        "\n",
        "dict = {'Name' : 'Mayuresh Nehe',\n",
        "        'Age' : 22,\n",
        "        'Subject' : 'MAchine Leaning',\n",
        "        'Batch' : 'Morning'}\n",
        "dict"
      ]
    },
    {
      "cell_type": "markdown",
      "metadata": {
        "id": "cOXQR5dTiC99"
      },
      "source": [
        "**Q.2) Write a program to print the following pattern**"
      ]
    },
    {
      "cell_type": "code",
      "execution_count": 4,
      "metadata": {
        "colab": {
          "base_uri": "https://localhost:8080/"
        },
        "id": "QghHyw1ViK9T",
        "outputId": "7afca4d8-a0f9-48ae-adbd-f472eb16b248"
      },
      "outputs": [
        {
          "name": "stdout",
          "output_type": "stream",
          "text": [
            "* \n",
            "* * \n",
            "* * * \n"
          ]
        }
      ],
      "source": [
        "for i in range(3):\n",
        "  for j in range(i+1):\n",
        "    print('*', end = ' ')\n",
        "  print()"
      ]
    },
    {
      "cell_type": "markdown",
      "metadata": {
        "id": "0ZTK_RDFrmE3"
      },
      "source": [
        "**3. Write a program to print n natural number in ascending order using a while loop?**\n",
        "\n"
      ]
    },
    {
      "cell_type": "code",
      "execution_count": 11,
      "metadata": {
        "colab": {
          "base_uri": "https://localhost:8080/"
        },
        "id": "_DWJ0CwqrjzD",
        "outputId": "3524033d-5d38-4c2f-aacc-3cca52961e4a"
      },
      "outputs": [
        {
          "name": "stdout",
          "output_type": "stream",
          "text": [
            "1\n",
            "2\n",
            "3\n",
            "4\n",
            "5\n",
            "6\n"
          ]
        }
      ],
      "source": [
        "n = 6\n",
        "\n",
        "\n",
        "i = 1\n",
        "\n",
        "while i <= n:\n",
        "    print(i)\n",
        "    i += 1\n"
      ]
    },
    {
      "cell_type": "markdown",
      "metadata": {
        "id": "HXxZnl4Etio8"
      },
      "source": [
        "**4. Write a program in Python to swap between two numbers without using a third variable**\n",
        "\n"
      ]
    },
    {
      "cell_type": "code",
      "execution_count": 7,
      "metadata": {
        "colab": {
          "base_uri": "https://localhost:8080/"
        },
        "id": "85zfhyVgtLPX",
        "outputId": "6529e8ed-df59-454a-b5e0-58c1c13af2cd"
      },
      "outputs": [
        {
          "name": "stdout",
          "output_type": "stream",
          "text": [
            "6\n",
            "5\n"
          ]
        }
      ],
      "source": [
        "a = 5\n",
        "b = 6\n",
        "\n",
        "a,b = b,a\n",
        "print(a)\n",
        "print(b)"
      ]
    },
    {
      "cell_type": "markdown",
      "metadata": {
        "id": "VPMg9ATVuue2"
      },
      "source": [
        "**5. How to Create a Function with Default Arguments in Python.( Example)**"
      ]
    },
    {
      "cell_type": "code",
      "execution_count": 9,
      "metadata": {
        "colab": {
          "base_uri": "https://localhost:8080/"
        },
        "id": "FKhue0O-uh14",
        "outputId": "af4af3a6-7c2b-48ae-b6cd-225cd366662b"
      },
      "outputs": [
        {
          "name": "stdout",
          "output_type": "stream",
          "text": [
            "Hello default value\n",
            "World default value\n"
          ]
        }
      ],
      "source": [
        "def my_function(arg1, arg2=\"default value\"):\n",
        "    print(arg1, arg2)\n",
        "\n",
        "my_function(\"Hello\")\n",
        "\n",
        "\n",
        "my_function(\"World\")"
      ]
    },
    {
      "cell_type": "markdown",
      "metadata": {
        "id": "ghoFte6WvU9U"
      },
      "source": [
        "**6. Display a square of numbers from 1 to 10 using list comprehension.**"
      ]
    },
    {
      "cell_type": "code",
      "execution_count": 10,
      "metadata": {
        "colab": {
          "base_uri": "https://localhost:8080/"
        },
        "id": "85HTNxkzvQuq",
        "outputId": "e7e1ae92-d3ab-4089-e762-b48c1e5e982d"
      },
      "outputs": [
        {
          "name": "stdout",
          "output_type": "stream",
          "text": [
            "[1, 4, 9, 16, 25, 36, 49, 64, 81, 100]\n"
          ]
        }
      ],
      "source": [
        "numbers = list(range(1, 11))\n",
        "\n",
        "squares = [number ** 2 for number in numbers]\n",
        "\n",
        "\n",
        "print(squares)"
      ]
    },
    {
      "cell_type": "markdown",
      "metadata": {
        "id": "fwETnzlqwGVP"
      },
      "source": [
        "**7. What is polymorphism? Explain with example( class)**"
      ]
    },
    {
      "cell_type": "code",
      "execution_count": 12,
      "metadata": {
        "colab": {
          "base_uri": "https://localhost:8080/"
        },
        "id": "JjnRf-NEvho0",
        "outputId": "8fbaaa0d-5255-4215-92fa-3802ed2ddd7f"
      },
      "outputs": [
        {
          "name": "stdout",
          "output_type": "stream",
          "text": [
            "Woof!\n",
            "Meow!\n"
          ]
        }
      ],
      "source": [
        "class Animal:\n",
        "    def speak(self):\n",
        "        print(\"I am an animal!\")\n",
        "\n",
        "class Dog(Animal):\n",
        "    def speak(self):\n",
        "        print(\"Woof!\")\n",
        "\n",
        "class Cat(Animal):\n",
        "    def speak(self):\n",
        "        print(\"Meow!\")\n",
        "\n",
        "# Create an instance of each class\n",
        "dog = Dog()\n",
        "cat = Cat()\n",
        "\n",
        "\n",
        "dog.speak()\n",
        "cat.speak()\n"
      ]
    },
    {
      "cell_type": "markdown",
      "metadata": {
        "id": "3qhq7OngwZhc"
      },
      "source": [
        "**8. Explain conditional probability with example?**\n",
        "\n",
        "**Ans:**\n",
        "\n",
        "Conditional probability is the probability of event A happening, given that event B has already happened. It is denoted by P(A|B).\n",
        "\n",
        "For example, let's say we have a bag of marbles that contains 10 red marbles and 10 blue marbles. We randomly draw one marble from the bag. What is the probability that the marble is red?\n",
        "\n",
        "The answer is 50%. This is because there is an equal chance of drawing a red marble or a blue marble.\n",
        "\n",
        "Now, let's say we know that the first marble we drew was red. What is the probability that the second marble we draw is also red?\n",
        "\n",
        "The answer is 4/9. This is because there are now only 9 marbles left in the bag, and only 4 of them are red."
      ]
    },
    {
      "cell_type": "markdown",
      "metadata": {
        "id": "M9M6Q5odwvZh"
      },
      "source": [
        "**9. Explain Emphirical rule  with diagram .**\n",
        "\n",
        "**Ans:**\n",
        "\n",
        "\n",
        "1. Approximately 68% of the data falls within one standard deviation of the mean, which is represented by the area between µ-σ and µ+σ.\n",
        "2. Approximately 95% of the data falls within two standard deviations of the mean, which is represented by the area between µ-2σ and µ+2σ.\n",
        "3. Approximately 99.7% of the data falls within three standard deviations of the mean, which is represented by the area between µ-3σ and µ+3σ.\n"
      ]
    },
    {
      "cell_type": "markdown",
      "metadata": {
        "id": "8PkXVUmQxo3z"
      },
      "source": [
        "**10.What is Hypothesis Testing ? What is the Role of p value in HT?**\n",
        "\n",
        "**Ans:**\n",
        "\n",
        "Hypothesis testing is a statistical method used to make inferences or draw conclusions about a population based on sample data. The p-value in hypothesis testing is a measure of the strength of evidence against the null hypothesis and helps determine if the results are statistically significant or simply due to chance."
      ]
    },
    {
      "cell_type": "markdown",
      "metadata": {
        "id": "pqtf2b0G0MoD"
      },
      "source": [
        "**Q2) List all the probability distributions with example?**\n",
        "\n",
        "**Ans:**\n",
        "\n",
        "1. Normal Distribution (Gaussian Distribution): It describes continuous data that follows a symmetric bell-shaped curve, such as heights or IQ scores.\n",
        "\n",
        "2. Binomial Distribution:  Example: Flipping a coin multiple times.\n",
        "\n",
        "3. Poisson Distribution:  Example: Counting the number of phone calls received per hour.\n",
        "\n",
        "4. Exponential Distribution:  Example: The time between arrivals at a bus stop.\n",
        "\n",
        "5. Uniform Distribution: Example: Rolling a fair die.\n",
        "\n",
        "6. Bernoulli Distribution: Example: Flipping a coin (success for heads, failure for tails)."
      ]
    },
    {
      "cell_type": "code",
      "execution_count": 12,
      "metadata": {
        "id": "p5cs7CrNwYJi"
      },
      "outputs": [],
      "source": []
    }
  ],
  "metadata": {
    "colab": {
      "provenance": []
    },
    "kernelspec": {
      "display_name": "Python 3",
      "name": "python3"
    },
    "language_info": {
      "name": "python"
    }
  },
  "nbformat": 4,
  "nbformat_minor": 0
}
